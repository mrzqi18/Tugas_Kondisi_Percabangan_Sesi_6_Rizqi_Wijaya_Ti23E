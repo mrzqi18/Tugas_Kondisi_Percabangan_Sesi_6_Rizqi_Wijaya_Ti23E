{
 "cells": [
  {
   "cell_type": "code",
   "execution_count": null,
   "id": "e85f0763-6284-48e7-8d8f-acefed22b27f",
   "metadata": {},
   "outputs": [],
   "source": [
    "umur = int(input(\"Masukkan umur anak: \"))\n",
    "\n",
    "if umur == 1:\n",
    "    print(\"Dilarang masuk\")\n",
    "elif umur < 2:\n",
    "    print(\"Dilarang masuk\")\n",
    "elif umur < 4:\n",
    "    tinggi = int(input(\"Masukkan tinggi anak (dalam cm): \"))\n",
    "    if umur == 2 and tinggi > 70:\n",
    "        tarif = 30000 + 10000\n",
    "    else:\n",
    "        tarif = 30000\n",
    "elif umur < 7:\n",
    "    tinggi = int(input(\"Masukkan tinggi anak (dalam cm): \"))\n",
    "    if umur <= 3 and tinggi > 120:\n",
    "        tarif = 40000 + 15000\n",
    "    else:\n",
    "        tarif = 40000\n",
    "elif umur < 10:\n",
    "    tinggi = int(input(\"Masukkan tinggi anak (dalam cm): \"))\n",
    "    if umur <= 6 and tinggi > 150:\n",
    "        tarif = 50000 + 20000\n",
    "    else:\n",
    "        tarif = 50000\n",
    "else:\n",
    "    tarif = 80000\n",
    "\n",
    "if umur > 1:\n",
    "    print(\"Tarif harga:\", \"Rp\", tarif)"
   ]
  }
 ],
 "metadata": {
  "kernelspec": {
   "display_name": "Python 3 (ipykernel)",
   "language": "python",
   "name": "python3"
  },
  "language_info": {
   "codemirror_mode": {
    "name": "ipython",
    "version": 3
   },
   "file_extension": ".py",
   "mimetype": "text/x-python",
   "name": "python",
   "nbconvert_exporter": "python",
   "pygments_lexer": "ipython3",
   "version": "3.11.7"
  }
 },
 "nbformat": 4,
 "nbformat_minor": 5
}
